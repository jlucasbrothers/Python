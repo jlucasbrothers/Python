{
  "nbformat": 4,
  "nbformat_minor": 0,
  "metadata": {
    "colab": {
      "name": "AqueceMaratona1_Qoda_Python.ipynb",
      "provenance": [],
      "collapsed_sections": [],
      "include_colab_link": true
    },
    "kernelspec": {
      "name": "python3",
      "display_name": "Python 3"
    }
  },
  "cells": [
    {
      "cell_type": "markdown",
      "metadata": {
        "id": "view-in-github",
        "colab_type": "text"
      },
      "source": [
        "<a href=\"https://colab.research.google.com/github/jlucasbrothers/Python/blob/master/AqueceMaratona1_Qoda_Python.ipynb\" target=\"_parent\"><img src=\"https://colab.research.google.com/assets/colab-badge.svg\" alt=\"Open In Colab\"/></a>"
      ]
    },
    {
      "cell_type": "markdown",
      "metadata": {
        "id": "5hh0PMqZBHax",
        "colab_type": "text"
      },
      "source": [
        "# AQUECE MARATONA 2020! \n",
        "\n",
        "*   LOTE 2 ( 102,00 ) https://www.qoda.com.br/maratona-data-science-pre-venda/\n",
        "*   LOTE 3 ( 222,00 )\n",
        "*   LOTE FINAL ( 992,00 )\n",
        "\n",
        "\n",
        "\n",
        "\n",
        "---\n",
        "![](https://www.qoda.com.br/wp-content/uploads/2020/02/timeline-maratona.png)\n",
        "\n",
        "\n",
        "---\n",
        "\n",
        "*   LOTE 2 ( 102,00 ) https://www.qoda.com.br/maratona-data-science-pre-venda/\n",
        "*   LOTE 3 ( 222,00 )\n",
        "*   LOTE FINAL ( 992,00 )\n"
      ]
    },
    {
      "cell_type": "markdown",
      "metadata": {
        "id": "l16RNmVia3Gq",
        "colab_type": "text"
      },
      "source": [
        "# Python\n",
        "\n",
        "---\n",
        "\n"
      ]
    },
    {
      "cell_type": "markdown",
      "metadata": {
        "id": "blkXmaN4bwzU",
        "colab_type": "text"
      },
      "source": [
        "## Seu primeiro programa 🐣\n",
        "\n",
        "## João Lucas Rodrigues Coutinho\n"
      ]
    },
    {
      "cell_type": "code",
      "metadata": {
        "id": "vBNGWECAa0eC",
        "colab_type": "code",
        "outputId": "1f2b74c4-7967-4b78-f6f8-13e476a411a4",
        "colab": {
          "base_uri": "https://localhost:8080/",
          "height": 50
        }
      },
      "source": [
        "nome = input(\"Qual é o seu nome? \")\n",
        "print(f\"Hello {nome}\")"
      ],
      "execution_count": 0,
      "outputs": [
        {
          "output_type": "stream",
          "text": [
            "Qual é o seu nome? João\n",
            "Hello João\n"
          ],
          "name": "stdout"
        }
      ]
    },
    {
      "cell_type": "markdown",
      "metadata": {
        "id": "fF86Y11CcH-t",
        "colab_type": "text"
      },
      "source": [
        "## Operadores\n",
        "### Aritméticos:\n",
        "![alt text](https://image.slidesharecdn.com/introduoapython-iijtims-mdulo1-131108230122-phpapp01/95/introduo-python-mdulo-1-46-638.jpg?cb=1383951826)\n",
        "### Lógicos:\n",
        "![alt text](https://image.slidesharecdn.com/apresentao-170510192311/95/captulo-2-python-6-638.jpg?cb=1494444228)"
      ]
    },
    {
      "cell_type": "code",
      "metadata": {
        "id": "9KiF8V3ocQZM",
        "colab_type": "code",
        "outputId": "077bb97e-b38a-4040-8eac-fb9355f8097e",
        "colab": {
          "base_uri": "https://localhost:8080/",
          "height": 34
        }
      },
      "source": [
        "# SOMA\n",
        "1+1"
      ],
      "execution_count": 0,
      "outputs": [
        {
          "output_type": "execute_result",
          "data": {
            "text/plain": [
              "2"
            ]
          },
          "metadata": {
            "tags": []
          },
          "execution_count": 2
        }
      ]
    },
    {
      "cell_type": "code",
      "metadata": {
        "id": "LX-sHjk2cS_m",
        "colab_type": "code",
        "outputId": "17cc29b9-3f04-437f-fdda-58c47f613b18",
        "colab": {
          "base_uri": "https://localhost:8080/",
          "height": 34
        }
      },
      "source": [
        "# SUBTRAÇÃO\n",
        "1-1"
      ],
      "execution_count": 0,
      "outputs": [
        {
          "output_type": "execute_result",
          "data": {
            "text/plain": [
              "0"
            ]
          },
          "metadata": {
            "tags": []
          },
          "execution_count": 3
        }
      ]
    },
    {
      "cell_type": "code",
      "metadata": {
        "id": "4E7cwx1OcU9R",
        "colab_type": "code",
        "outputId": "e164405a-c992-4b72-8878-e8295415676c",
        "colab": {
          "base_uri": "https://localhost:8080/",
          "height": 34
        }
      },
      "source": [
        "# MULTIPLICAÇÃO\n",
        "1*10"
      ],
      "execution_count": 0,
      "outputs": [
        {
          "output_type": "execute_result",
          "data": {
            "text/plain": [
              "10"
            ]
          },
          "metadata": {
            "tags": []
          },
          "execution_count": 4
        }
      ]
    },
    {
      "cell_type": "code",
      "metadata": {
        "id": "fPVGehO0cXAn",
        "colab_type": "code",
        "outputId": "321ae9a3-e31c-4b56-e4e7-3e8a908b0213",
        "colab": {
          "base_uri": "https://localhost:8080/",
          "height": 34
        }
      },
      "source": [
        "# DIVISÃO\n",
        "100 % 3"
      ],
      "execution_count": 0,
      "outputs": [
        {
          "output_type": "execute_result",
          "data": {
            "text/plain": [
              "1"
            ]
          },
          "metadata": {
            "tags": []
          },
          "execution_count": 5
        }
      ]
    },
    {
      "cell_type": "code",
      "metadata": {
        "id": "4G7MTi1IcZ1K",
        "colab_type": "code",
        "outputId": "97a48750-c514-4c5e-cfb6-947c516e0e54",
        "colab": {
          "base_uri": "https://localhost:8080/",
          "height": 34
        }
      },
      "source": [
        "# EXPONENCIAÇÃO\n",
        "4**2"
      ],
      "execution_count": 0,
      "outputs": [
        {
          "output_type": "execute_result",
          "data": {
            "text/plain": [
              "16"
            ]
          },
          "metadata": {
            "tags": []
          },
          "execution_count": 6
        }
      ]
    },
    {
      "cell_type": "code",
      "metadata": {
        "id": "5WZgLLHDdCcx",
        "colab_type": "code",
        "outputId": "056d211d-ad01-4c24-f1ef-0a2840b27e55",
        "colab": {
          "base_uri": "https://localhost:8080/",
          "height": 50
        }
      },
      "source": [
        "# DESAFIO PYTHON\n",
        "# Tendo como dados de entrada a altura de uma pessoa, construa um algoritmo que calcule seu peso ideal, usando a seguinte fórmula: (72.7*altura) - 58\n",
        "altura = float(input(\"Qual sua altura? \"))\n",
        "pesoIMC = (72.7*altura) - 58\n",
        "print(f\"Seu peso ideal é {round(pesoIMC, 1)}kg\")\n"
      ],
      "execution_count": 0,
      "outputs": [
        {
          "output_type": "stream",
          "text": [
            "Qual sua altura? 1.68\n",
            "Seu peso ideal é 64.1kg\n"
          ],
          "name": "stdout"
        }
      ]
    },
    {
      "cell_type": "markdown",
      "metadata": {
        "id": "iSVkee19DfVK",
        "colab_type": "text"
      },
      "source": [
        "## Tipos de Dados\n",
        "\n",
        "---\n",
        "\n",
        "* Inteiros:  declarados com **int()**\n",
        "<br>\n",
        "Exemplo de inteiros: 4, -234455, 21543...\n",
        "<br><br>\n",
        "* Flutuantes:  conhecidos como floating, são números decimais, declarados com **float()**\n",
        "<br>\n",
        "Exemplo de flutuantes: 4.0, -23.5, 215.43\n",
        "<br><br>\n",
        "* Booleanos:  conhecidos como lógicos, temos \"True\" ou \"False\", declarados com **bool()**\n",
        "<br>\n",
        "Exemplo de booleanos: True, False\n",
        "<br><br>\n",
        "* Strings:  conhecidos como cadeia de caracteres, inseridos entre aspas(duplas ou simples), declarados com **str()**\n",
        "<br>\n",
        "Exemplo de strings: \"oi!\", \"27\", \"23.50\""
      ]
    },
    {
      "cell_type": "code",
      "metadata": {
        "id": "OlMlroryFdgo",
        "colab_type": "code",
        "outputId": "2d83db66-8aaa-4891-cc93-6ed5197d387d",
        "colab": {
          "base_uri": "https://localhost:8080/",
          "height": 34
        }
      },
      "source": [
        "inteiro = 12\n",
        "type(inteiro)"
      ],
      "execution_count": 0,
      "outputs": [
        {
          "output_type": "execute_result",
          "data": {
            "text/plain": [
              "int"
            ]
          },
          "metadata": {
            "tags": []
          },
          "execution_count": 8
        }
      ]
    },
    {
      "cell_type": "code",
      "metadata": {
        "id": "RzwqRmHBFpf3",
        "colab_type": "code",
        "outputId": "87e56d38-3102-484b-8fdc-5b3992d755fa",
        "colab": {
          "base_uri": "https://localhost:8080/",
          "height": 34
        }
      },
      "source": [
        "flutuante = 12.5\n",
        "type(flutuante)"
      ],
      "execution_count": 0,
      "outputs": [
        {
          "output_type": "execute_result",
          "data": {
            "text/plain": [
              "float"
            ]
          },
          "metadata": {
            "tags": []
          },
          "execution_count": 9
        }
      ]
    },
    {
      "cell_type": "code",
      "metadata": {
        "id": "4_ZeW7grFpos",
        "colab_type": "code",
        "outputId": "1d16582f-5952-46aa-f5bd-0cab7a8e9318",
        "colab": {
          "base_uri": "https://localhost:8080/",
          "height": 34
        }
      },
      "source": [
        "booleano = True\n",
        "type(booleano)"
      ],
      "execution_count": 0,
      "outputs": [
        {
          "output_type": "execute_result",
          "data": {
            "text/plain": [
              "bool"
            ]
          },
          "metadata": {
            "tags": []
          },
          "execution_count": 10
        }
      ]
    },
    {
      "cell_type": "code",
      "metadata": {
        "id": "Wq9c8PjfFpyo",
        "colab_type": "code",
        "outputId": "47fad297-5637-4542-cd0e-5782d75031d6",
        "colab": {
          "base_uri": "https://localhost:8080/",
          "height": 34
        }
      },
      "source": [
        "caracter = \"Olá, mundo!\"\n",
        "type(caracter)"
      ],
      "execution_count": 0,
      "outputs": [
        {
          "output_type": "execute_result",
          "data": {
            "text/plain": [
              "str"
            ]
          },
          "metadata": {
            "tags": []
          },
          "execution_count": 11
        }
      ]
    },
    {
      "cell_type": "markdown",
      "metadata": {
        "id": "xQCkO867cpu1",
        "colab_type": "text"
      },
      "source": [
        "## Condicionais"
      ]
    },
    {
      "cell_type": "code",
      "metadata": {
        "id": "1dccn0dLcsG2",
        "colab_type": "code",
        "outputId": "d8f8b010-ce6c-478b-8b17-2af1a74f868c",
        "colab": {
          "base_uri": "https://localhost:8080/",
          "height": 34
        }
      },
      "source": [
        "# IF\n",
        "if 100 > 99:\n",
        "  print(\"100 é maior que 99!\")"
      ],
      "execution_count": 0,
      "outputs": [
        {
          "output_type": "stream",
          "text": [
            "100 é maior que 99!\n"
          ],
          "name": "stdout"
        }
      ]
    },
    {
      "cell_type": "code",
      "metadata": {
        "id": "k56YVoZIddjj",
        "colab_type": "code",
        "outputId": "47c24e1b-e2da-47cf-9d53-e19bcc978bb7",
        "colab": {
          "base_uri": "https://localhost:8080/",
          "height": 34
        }
      },
      "source": [
        "# IF, ELSE\n",
        "if 100 == 99:\n",
        "  print(\"100 e 99 são iguais!\")\n",
        "else:\n",
        "  print(\"100 é diferente de 99\")\n"
      ],
      "execution_count": 0,
      "outputs": [
        {
          "output_type": "stream",
          "text": [
            "100 é diferente de 99\n"
          ],
          "name": "stdout"
        }
      ]
    },
    {
      "cell_type": "code",
      "metadata": {
        "id": "VM88dXCpdfpa",
        "colab_type": "code",
        "outputId": "eb9049c8-1e25-4685-941b-55777d847c9e",
        "colab": {
          "base_uri": "https://localhost:8080/",
          "height": 34
        }
      },
      "source": [
        "# IF, ELIF, ELSE\n",
        "if 100 == 99:\n",
        "  print(\"100 e 99 são iguais!\")\n",
        "elif 100 > 99:\n",
        "  print(\"100 é maior que 99!\")\n",
        "else:\n",
        "  print(\"100 é menor que 99!\")"
      ],
      "execution_count": 0,
      "outputs": [
        {
          "output_type": "stream",
          "text": [
            "100 é maior que 99!\n"
          ],
          "name": "stdout"
        }
      ]
    },
    {
      "cell_type": "code",
      "metadata": {
        "id": "gtOpJ0BfhQPa",
        "colab_type": "code",
        "outputId": "d6d1ea61-6d75-4d7d-c195-16922d7e4910",
        "colab": {
          "base_uri": "https://localhost:8080/",
          "height": 50
        }
      },
      "source": [
        "# DESAFIO CONDICIONAIS\n",
        "# Faça um Programa que pergunte em que turno você estuda. Peça para digitar M-matutino ou V-Vespertino ou N- Noturno. Imprima a mensagem \"Bom Dia!\", \"Boa Tarde!\" ou \"Boa Noite!\" ou \"Valor Inválido!\", conforme o caso.\n",
        "turno = input(\"Qual turno você estuda? M-matutino V-vespertino N-noturno: \")\n",
        "\n",
        "if (turno == \"M\"):\n",
        "    print(\"Bom dia !\")\n",
        "elif (turno == \"V\"):\n",
        "    print(\"Boa tarde !\")\n",
        "elif (turno == \"N\"):\n",
        "    print(\"Boa noite !\")\n",
        "\n"
      ],
      "execution_count": 0,
      "outputs": [
        {
          "output_type": "stream",
          "text": [
            "Qual turno você estuda? M-matutino V-vespertino N-noturno: N\n",
            "Boa noite !\n"
          ],
          "name": "stdout"
        }
      ]
    },
    {
      "cell_type": "markdown",
      "metadata": {
        "id": "fc85ML8bcsbR",
        "colab_type": "text"
      },
      "source": [
        "## Repetição"
      ]
    },
    {
      "cell_type": "code",
      "metadata": {
        "id": "Nfb90GWEcuRU",
        "colab_type": "code",
        "outputId": "14078f6d-6cd9-42e7-bdfc-707e1ad25c75",
        "colab": {
          "base_uri": "https://localhost:8080/",
          "height": 118
        }
      },
      "source": [
        "# FOR\n",
        "for x in range(0,12,2):\n",
        "  print(x)"
      ],
      "execution_count": 0,
      "outputs": [
        {
          "output_type": "stream",
          "text": [
            "0\n",
            "2\n",
            "4\n",
            "6\n",
            "8\n",
            "10\n"
          ],
          "name": "stdout"
        }
      ]
    },
    {
      "cell_type": "code",
      "metadata": {
        "id": "-xotKE8ShlRy",
        "colab_type": "code",
        "outputId": "aa199f00-cb71-4e07-d85b-a703efe2ad8f",
        "colab": {
          "base_uri": "https://localhost:8080/",
          "height": 134
        }
      },
      "source": [
        "palavra = \"PALAVRA\"\n",
        "for letra in palavra:\n",
        "  print(letra)"
      ],
      "execution_count": 0,
      "outputs": [
        {
          "output_type": "stream",
          "text": [
            "P\n",
            "A\n",
            "L\n",
            "A\n",
            "V\n",
            "R\n",
            "A\n"
          ],
          "name": "stdout"
        }
      ]
    },
    {
      "cell_type": "code",
      "metadata": {
        "id": "a4X4aY2Xhem0",
        "colab_type": "code",
        "colab": {}
      },
      "source": [
        "# WHILE\n",
        "num = 0\n",
        "while True:\n",
        "       print(num)\n",
        "       num   = num + 1"
      ],
      "execution_count": 0,
      "outputs": []
    },
    {
      "cell_type": "code",
      "metadata": {
        "id": "sWINJQ81dThC",
        "colab_type": "code",
        "outputId": "84c4f258-08ae-4788-98a9-86da4a75fd00",
        "colab": {
          "base_uri": "https://localhost:8080/",
          "height": 50
        }
      },
      "source": [
        "# DESAFIO REPETIÇÃO\n",
        "# A série de Fibonacci é formada pela seqüência 1,1,2,3,5,8,13,21,34,55,... Faça um programa capaz de gerar a série até o n−ésimo termo.\n",
        "# qual numero voce deseja receber a sequencia fibonacci? 34\n",
        "\n",
        "a=int(input(\"Gostaria de gerar a sequência de Fibonacci até qual termo? \"))\n",
        "f=0                                         \n",
        "s=1                                         \n",
        "if a<=0:\n",
        "    print(\"The requested series is\",f)\n",
        "else:\n",
        "    print(f,s,end=\" \")\n",
        "    for x in range(2,a):\n",
        "        next=f+s                           \n",
        "        print(next,end=\" \")\n",
        "        f=s\n",
        "        s=next"
      ],
      "execution_count": 0,
      "outputs": [
        {
          "output_type": "stream",
          "text": [
            "Gostaria de gerar a sequência de Fibonacci até qual termo? 6\n",
            "0 1 1 2 3 5 "
          ],
          "name": "stdout"
        }
      ]
    },
    {
      "cell_type": "markdown",
      "metadata": {
        "id": "lm-dZvAocvaa",
        "colab_type": "text"
      },
      "source": [
        "## Funções"
      ]
    },
    {
      "cell_type": "code",
      "metadata": {
        "id": "vfQJFzuncxuz",
        "colab_type": "code",
        "outputId": "858c2034-f9cf-4cdd-b0d0-1fe3feed6112",
        "colab": {
          "base_uri": "https://localhost:8080/",
          "height": 34
        }
      },
      "source": [
        "palavra = \"PALAVRA\"\n",
        "palavra.upper()"
      ],
      "execution_count": 0,
      "outputs": [
        {
          "output_type": "execute_result",
          "data": {
            "text/plain": [
              "'PALAVRA'"
            ]
          },
          "metadata": {
            "tags": []
          },
          "execution_count": 18
        }
      ]
    },
    {
      "cell_type": "code",
      "metadata": {
        "id": "BkpGqILGjjzE",
        "colab_type": "code",
        "colab": {}
      },
      "source": [
        "def RaizQuadrada(x):\n",
        "  return x**2"
      ],
      "execution_count": 0,
      "outputs": []
    },
    {
      "cell_type": "code",
      "metadata": {
        "id": "n953bAgMju_J",
        "colab_type": "code",
        "outputId": "dcf65496-da9f-4cf6-dd19-908e91d3e60e",
        "colab": {
          "base_uri": "https://localhost:8080/",
          "height": 34
        }
      },
      "source": [
        "RaizQuadrada(2)"
      ],
      "execution_count": 0,
      "outputs": [
        {
          "output_type": "execute_result",
          "data": {
            "text/plain": [
              "4"
            ]
          },
          "metadata": {
            "tags": []
          },
          "execution_count": 20
        }
      ]
    },
    {
      "cell_type": "code",
      "metadata": {
        "id": "IWE_rUvBigeT",
        "colab_type": "code",
        "colab": {}
      },
      "source": [
        "# DESAFIO FUNÇÕES\n",
        "# Reverso do número. Faça uma função que retorne o reverso de um número inteiro informado. Por exemplo: 127 -> 721.\n",
        "def Reverse():\n",
        "    n = input(\"Digite o número: \")\n",
        "    r = \"\"\n",
        "    for i in range (len(n)-1, -1, -1):\n",
        "      r+=n[i]\n",
        "    return r\n"
      ],
      "execution_count": 0,
      "outputs": []
    },
    {
      "cell_type": "code",
      "metadata": {
        "id": "-dVDZ57H60gu",
        "colab_type": "code",
        "outputId": "5afb393e-ea09-4e17-d7cd-145878d531e5",
        "colab": {
          "base_uri": "https://localhost:8080/",
          "height": 50
        }
      },
      "source": [
        "Reverse()"
      ],
      "execution_count": 0,
      "outputs": [
        {
          "output_type": "stream",
          "text": [
            "Digite o número: 123456789\n"
          ],
          "name": "stdout"
        },
        {
          "output_type": "execute_result",
          "data": {
            "text/plain": [
              "'987654321'"
            ]
          },
          "metadata": {
            "tags": []
          },
          "execution_count": 42
        }
      ]
    },
    {
      "cell_type": "code",
      "metadata": {
        "id": "ronURVNo62Tq",
        "colab_type": "code",
        "colab": {}
      },
      "source": [
        ""
      ],
      "execution_count": 0,
      "outputs": []
    }
  ]
}